{
  "nbformat": 4,
  "nbformat_minor": 0,
  "metadata": {
    "colab": {
      "name": "Demt.ipynb",
      "provenance": [],
      "authorship_tag": "ABX9TyNIqFgeunjEqJW6irBeEeOI",
      "include_colab_link": true
    },
    "kernelspec": {
      "name": "python3",
      "display_name": "Python 3"
    }
  },
  "cells": [
    {
      "cell_type": "markdown",
      "metadata": {
        "id": "view-in-github",
        "colab_type": "text"
      },
      "source": [
        "<a href=\"https://colab.research.google.com/github/amitauti/machinlearning/blob/master/Demt.ipynb\" target=\"_parent\"><img src=\"https://colab.research.google.com/assets/colab-badge.svg\" alt=\"Open In Colab\"/></a>"
      ]
    },
    {
      "cell_type": "markdown",
      "metadata": {
        "id": "r1B9V24vDAl3",
        "colab_type": "text"
      },
      "source": [
        "# Add two variables"
      ]
    },
    {
      "cell_type": "code",
      "metadata": {
        "id": "2EUPqCvxCBEG",
        "colab_type": "code",
        "colab": {}
      },
      "source": [
        "x = 4"
      ],
      "execution_count": 0,
      "outputs": []
    },
    {
      "cell_type": "code",
      "metadata": {
        "id": "CEkjKzVcCw7c",
        "colab_type": "code",
        "colab": {}
      },
      "source": [
        "y = 5"
      ],
      "execution_count": 0,
      "outputs": []
    },
    {
      "cell_type": "code",
      "metadata": {
        "id": "os8jKQJqCzMo",
        "colab_type": "code",
        "colab": {}
      },
      "source": [
        "z = x+y"
      ],
      "execution_count": 0,
      "outputs": []
    },
    {
      "cell_type": "code",
      "metadata": {
        "id": "QTpq2JGWC049",
        "colab_type": "code",
        "colab": {
          "base_uri": "https://localhost:8080/",
          "height": 34
        },
        "outputId": "fee7951c-425c-4805-b8c8-428664afffc0"
      },
      "source": [
        "print (z)"
      ],
      "execution_count": 4,
      "outputs": [
        {
          "output_type": "stream",
          "text": [
            "9\n"
          ],
          "name": "stdout"
        }
      ]
    },
    {
      "cell_type": "markdown",
      "metadata": {
        "id": "miteNm-MC5ta",
        "colab_type": "text"
      },
      "source": [
        "# Multiply two variable"
      ]
    },
    {
      "cell_type": "code",
      "metadata": {
        "id": "GjCOHKOyC9tu",
        "colab_type": "code",
        "colab": {}
      },
      "source": [
        ""
      ],
      "execution_count": 0,
      "outputs": []
    }
  ]
}